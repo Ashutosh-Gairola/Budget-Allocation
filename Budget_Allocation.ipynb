{
  "cells": [
    {
      "cell_type": "markdown",
      "metadata": {
        "colab_type": "text",
        "id": "view-in-github"
      },
      "source": [
        "<a href=\"https://colab.research.google.com/github/Ashutosh-Gairola/AAIES/blob/main/Assignment4_budget_allocation.ipynb\" target=\"_parent\"><img src=\"https://colab.research.google.com/assets/colab-badge.svg\" alt=\"Open In Colab\"/></a>"
      ]
    },
    {
      "cell_type": "markdown",
      "metadata": {
        "id": "5r2msEl9py3R"
      },
      "source": [
        "<b>The Problem Statement</b>:\n",
        "\n",
        "Write a Greedy Algorithm Based program for the following problem:\n",
        "A company is planning to launch a new product. They have a limited budget to spend on marketing and advertising. They need to decide how to allocate their budget to maximize the number of people who will be aware of their product.\n",
        "Marketing Channels:\n",
        "\n",
        "\n",
        "Social Media: Cost - 50,  Reach - 1000 people aware of the product.\n",
        "\n",
        "\n",
        "Email Campaign: Cost - $80, Reach - 1500 people aware of the product.</br>\n",
        "\n",
        "\n",
        "Influencer Collaboration: Cost - $120, Reach - 2500 people aware of the product.\n",
        "\n",
        "Budget Constraint: $200\n",
        "\n",
        "Now, the company wants to allocate their budget to these marketing channels in such a way that they maximize the total number of people aware of their product.\n",
        "\n",
        "\n",
        "\n",
        "\n",
        "\n"
      ]
    },
    {
      "cell_type": "markdown",
      "metadata": {
        "id": "hi0nFuvoppT9"
      },
      "source": [
        "## The Code"
      ]
    },
    {
      "cell_type": "markdown",
      "metadata": {
        "id": "q1ABUPU7L6em"
      },
      "source": [
        "### Imports"
      ]
    },
    {
      "cell_type": "code",
      "execution_count": 7,
      "metadata": {
        "id": "i3TtxZ2SL6en"
      },
      "outputs": [],
      "source": [
        "import heapq"
      ]
    },
    {
      "cell_type": "markdown",
      "metadata": {
        "id": "hnp5US3YLdEb"
      },
      "source": [
        "### Definition of Heuristic Functions"
      ]
    },
    {
      "cell_type": "code",
      "execution_count": 8,
      "metadata": {
        "id": "2XryJbWuLdEc"
      },
      "outputs": [],
      "source": [
        "# Define heuristic functions\n",
        "def reach_to_cost_ratio_heuristic(reach, cost):\n",
        "    return reach / cost\n",
        "\n",
        "def reach_heuristic(reach):\n",
        "    return reach"
      ]
    },
    {
      "cell_type": "markdown",
      "metadata": {
        "id": "EULYS1zCLF6l"
      },
      "source": [
        "### Priority Queue Creation"
      ]
    },
    {
      "cell_type": "code",
      "execution_count": 9,
      "metadata": {
        "id": "dnAv1jaZLF6l"
      },
      "outputs": [],
      "source": [
        "def create_priority_queue(channels, heuristic_function):\n",
        "\n",
        "    priority_queue = []\n",
        "    for channel in channels:\n",
        "        reach, cost, channel_name = channel\n",
        "        priority_score = heuristic_function(reach)\n",
        "\n",
        "        heapq.heappush(priority_queue, (-priority_score, channel))\n",
        "\n",
        "    return priority_queue"
      ]
    },
    {
      "cell_type": "markdown",
      "metadata": {
        "id": "WZrvsX8_ri3a"
      },
      "source": [
        "### Define the Greedy algorithm"
      ]
    },
    {
      "cell_type": "code",
      "execution_count": 10,
      "metadata": {
        "id": "Lk7ipyj16Jx8"
      },
      "outputs": [],
      "source": [
        "def greedy_allocation(priority_queue, budget):\n",
        "\n",
        "    allocated_channels = []\n",
        "    remaining_budget = budget\n",
        "\n",
        "    while priority_queue and remaining_budget > 0:\n",
        "        _, (reach, cost, channel_name) = heapq.heappop(priority_queue)\n",
        "        if cost <= remaining_budget:\n",
        "            allocated_channels.append((reach, cost, channel_name))\n",
        "            remaining_budget -= cost\n",
        "\n",
        "    return allocated_channels"
      ]
    },
    {
      "cell_type": "markdown",
      "metadata": {},
      "source": [
        "## Main function"
      ]
    },
    {
      "cell_type": "code",
      "execution_count": 11,
      "metadata": {
        "id": "WKo4j4AWPma6"
      },
      "outputs": [],
      "source": [
        "def main():\n",
        "    \"\"\"\n",
        "    Driver function for the marketing budget problem.\n",
        "    \"\"\"\n",
        "    # Choose the heuristic function (reach-to-cost ratio)\n",
        "    heuristic_function = reach_heuristic\n",
        "\n",
        "    # Create a priority queue based on the chosen heuristic function\n",
        "    priority_queue = create_priority_queue(marketing_channels, heuristic_function)\n",
        "\n",
        "    # Allocate budget greedily based on the priority queue\n",
        "    allocated_channels = greedy_allocation(priority_queue, budget_constraint)\n",
        "\n",
        "    # Print the allocated channels and their reach\n",
        "    total_reach = sum(reach for reach, _, _ in allocated_channels)\n",
        "    total_cost = sum(cost for _, cost, _ in allocated_channels)\n",
        "\n",
        "    print(\"\\nAllocated Channels:\")\n",
        "    for reach, cost, channel_name in allocated_channels:\n",
        "        print(f\"{channel_name}: Reach - {reach}, Cost - ${cost}\")\n",
        "\n",
        "    print(f\"Total Reach: {total_reach}\")\n",
        "    print(f\"Total Cost: ${total_cost}\")\n"
      ]
    },
    {
      "cell_type": "code",
      "execution_count": 12,
      "metadata": {},
      "outputs": [
        {
          "name": "stdout",
          "output_type": "stream",
          "text": [
            "\n",
            "Allocated Channels:\n",
            "Influencer Collaboration: Reach - 2500, Cost - $120\n",
            "Email Campaign: Reach - 1500, Cost - $80\n",
            "Total Reach: 4000\n",
            "Total Cost: $200\n"
          ]
        }
      ],
      "source": [
        "\n",
        "# Define the marketing channels as tuples (reach, cost, channel_name)\n",
        "social_media = (1000, 50, \"Social Media\")\n",
        "email_campaign = (1500, 80, \"Email Campaign\")\n",
        "influencer_collaboration = (2500, 120, \"Influencer Collaboration\")\n",
        "\n",
        "# Create a list of marketing channels\n",
        "marketing_channels = [social_media, email_campaign, influencer_collaboration]\n",
        "\n",
        "# Budget constraint\n",
        "budget_constraint = 200\n",
        "\n",
        "\n",
        "main()"
      ]
    },
    {
      "cell_type": "markdown",
      "metadata": {
        "id": "7Gfvt8tPrT7P"
      },
      "source": [
        "# Pseudo code of the greedy algorithm\n",
        "\n",
        "\n",
        "```\n",
        "Function greedy_allocation(priority_queue, budget):\n",
        "    allocated_channels = []  # Initialize an empty list to store allocated channels\n",
        "    remaining_budget = budget  # Initialize the remaining budget with the given budget\n",
        "\n",
        "    While priority_queue is not empty and remaining_budget > 0:\n",
        "        top_channel = remove the highest priority channel from priority_queue\n",
        "        reach, cost, channel_name = extract reach, cost, and channel_name from top_channel\n",
        "        \n",
        "        If cost <= remaining_budget:\n",
        "            # Allocate the channel within the budget\n",
        "            allocated_channels.append((reach, cost, channel_name))\n",
        "            remaining_budget -= cost\n",
        "\n",
        "    Return allocated_channels  # Return the list of allocated channels\n",
        "```"
      ]
    }
  ],
  "metadata": {
    "colab": {
      "include_colab_link": true,
      "provenance": []
    },
    "kernelspec": {
      "display_name": "Python 3",
      "name": "python3"
    },
    "language_info": {
      "codemirror_mode": {
        "name": "ipython",
        "version": 3
      },
      "file_extension": ".py",
      "mimetype": "text/x-python",
      "name": "python",
      "nbconvert_exporter": "python",
      "pygments_lexer": "ipython3",
      "version": "3.9.6"
    }
  },
  "nbformat": 4,
  "nbformat_minor": 0
}
